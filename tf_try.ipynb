{
  "nbformat": 4,
  "nbformat_minor": 0,
  "metadata": {
    "colab": {
      "provenance": [],
      "authorship_tag": "ABX9TyMRtUfZ6Zo2MdKNxcwOLkwV",
      "include_colab_link": true
    },
    "kernelspec": {
      "name": "python3",
      "display_name": "Python 3"
    },
    "language_info": {
      "name": "python"
    }
  },
  "cells": [
    {
      "cell_type": "markdown",
      "metadata": {
        "id": "view-in-github",
        "colab_type": "text"
      },
      "source": [
        "<a href=\"https://colab.research.google.com/github/shekhs/100-days-of-machine-learning/blob/main/tf_try.ipynb\" target=\"_parent\"><img src=\"https://colab.research.google.com/assets/colab-badge.svg\" alt=\"Open In Colab\"/></a>"
      ]
    },
    {
      "cell_type": "code",
      "execution_count": 1,
      "metadata": {
        "id": "vFAQ5-yb7IfR"
      },
      "outputs": [],
      "source": [
        "import numpy as np\n",
        "import tensorflow as tf"
      ]
    },
    {
      "cell_type": "code",
      "source": [
        "X = tf.Variable([[-3,2,4],[2,0,-2],[5,2,3]])"
      ],
      "metadata": {
        "id": "lfwYq6jw7R5o"
      },
      "execution_count": 4,
      "outputs": []
    },
    {
      "cell_type": "code",
      "source": [
        "X"
      ],
      "metadata": {
        "colab": {
          "base_uri": "https://localhost:8080/"
        },
        "id": "zi_gNPFO8LsJ",
        "outputId": "dccfa3eb-d31a-4230-f0e4-4c1fd253ffce"
      },
      "execution_count": 5,
      "outputs": [
        {
          "output_type": "execute_result",
          "data": {
            "text/plain": [
              "<tf.Variable 'Variable:0' shape=(3, 3) dtype=int32, numpy=\n",
              "array([[-3,  2,  4],\n",
              "       [ 2,  0, -2],\n",
              "       [ 5,  2,  3]], dtype=int32)>"
            ]
          },
          "metadata": {},
          "execution_count": 5
        }
      ]
    },
    {
      "cell_type": "code",
      "source": [
        "tf.reshape(X,shape=(9,1))"
      ],
      "metadata": {
        "colab": {
          "base_uri": "https://localhost:8080/"
        },
        "id": "UcDTQeOj8SYM",
        "outputId": "368d8c4b-d99d-4a47-86af-d8ea54ff3838"
      },
      "execution_count": 6,
      "outputs": [
        {
          "output_type": "execute_result",
          "data": {
            "text/plain": [
              "<tf.Tensor: shape=(9, 1), dtype=int32, numpy=\n",
              "array([[-3],\n",
              "       [ 2],\n",
              "       [ 4],\n",
              "       [ 2],\n",
              "       [ 0],\n",
              "       [-2],\n",
              "       [ 5],\n",
              "       [ 2],\n",
              "       [ 3]], dtype=int32)>"
            ]
          },
          "metadata": {},
          "execution_count": 6
        }
      ]
    },
    {
      "cell_type": "code",
      "source": [
        "X"
      ],
      "metadata": {
        "colab": {
          "base_uri": "https://localhost:8080/"
        },
        "id": "vXI2i1cF8cVM",
        "outputId": "b2fda299-0f66-486c-efd0-f360087f9444"
      },
      "execution_count": 7,
      "outputs": [
        {
          "output_type": "execute_result",
          "data": {
            "text/plain": [
              "<tf.Variable 'Variable:0' shape=(3, 3) dtype=int32, numpy=\n",
              "array([[-3,  2,  4],\n",
              "       [ 2,  0, -2],\n",
              "       [ 5,  2,  3]], dtype=int32)>"
            ]
          },
          "metadata": {},
          "execution_count": 7
        }
      ]
    },
    {
      "cell_type": "code",
      "source": [
        "tf.reshape(X,shape=(1,9))"
      ],
      "metadata": {
        "colab": {
          "base_uri": "https://localhost:8080/"
        },
        "id": "U5t-I0B_8dKm",
        "outputId": "aaf50ab4-e974-4e1b-818d-1c7fcc20c0c1"
      },
      "execution_count": 9,
      "outputs": [
        {
          "output_type": "execute_result",
          "data": {
            "text/plain": [
              "<tf.Tensor: shape=(1, 9), dtype=int32, numpy=array([[-3,  2,  4,  2,  0, -2,  5,  2,  3]], dtype=int32)>"
            ]
          },
          "metadata": {},
          "execution_count": 9
        }
      ]
    },
    {
      "cell_type": "markdown",
      "source": [],
      "metadata": {
        "id": "nv1MDv0_970D"
      }
    },
    {
      "cell_type": "code",
      "source": [
        "y = tf.Variable([[2,1,2],[1,7,3],[1,1,1]]\n",
        "                ,[[2,1,2],[1,7,3],[2,1,2]])"
      ],
      "metadata": {
        "id": "YH8mDqEi8glz"
      },
      "execution_count": 15,
      "outputs": []
    },
    {
      "cell_type": "code",
      "source": [
        "a = X*y"
      ],
      "metadata": {
        "id": "ZcDXpunh9QBa"
      },
      "execution_count": 16,
      "outputs": []
    },
    {
      "cell_type": "code",
      "source": [
        "a"
      ],
      "metadata": {
        "colab": {
          "base_uri": "https://localhost:8080/"
        },
        "id": "Wx2j3xg99Q_9",
        "outputId": "043d20c2-5880-4e31-b780-ae9fb7926d56"
      },
      "execution_count": 17,
      "outputs": [
        {
          "output_type": "execute_result",
          "data": {
            "text/plain": [
              "<tf.Tensor: shape=(3, 3), dtype=int32, numpy=\n",
              "array([[-6,  2,  8],\n",
              "       [ 2,  0, -6],\n",
              "       [ 5,  2,  3]], dtype=int32)>"
            ]
          },
          "metadata": {},
          "execution_count": 17
        }
      ]
    },
    {
      "cell_type": "code",
      "source": [
        "x = tf.Variable(3.0)\n",
        "with tf.GradientTape() as tape:\n",
        "  y = 3.0*tf.math.log(x)\n"
      ],
      "metadata": {
        "id": "WCbM8gJl9_DB"
      },
      "execution_count": 23,
      "outputs": []
    },
    {
      "cell_type": "code",
      "source": [
        "y"
      ],
      "metadata": {
        "colab": {
          "base_uri": "https://localhost:8080/"
        },
        "id": "XyqIbt_UBgWi",
        "outputId": "6823afdc-48f7-4fcc-9644-55bd2eb5aed6"
      },
      "execution_count": 24,
      "outputs": [
        {
          "output_type": "execute_result",
          "data": {
            "text/plain": [
              "<tf.Tensor: shape=(), dtype=float32, numpy=3.295837>"
            ]
          },
          "metadata": {},
          "execution_count": 24
        }
      ]
    },
    {
      "cell_type": "code",
      "source": [
        "dy_dx = tape.gradient(y,x)\n"
      ],
      "metadata": {
        "id": "KrWyITpQBlM8"
      },
      "execution_count": 25,
      "outputs": []
    },
    {
      "cell_type": "code",
      "source": [
        "dy_dx"
      ],
      "metadata": {
        "colab": {
          "base_uri": "https://localhost:8080/"
        },
        "id": "KxWbiEsrBtat",
        "outputId": "c96e4a67-3a9c-42ca-9053-c80ce71739c1"
      },
      "execution_count": 26,
      "outputs": [
        {
          "output_type": "execute_result",
          "data": {
            "text/plain": [
              "<tf.Tensor: shape=(), dtype=float32, numpy=1.0>"
            ]
          },
          "metadata": {},
          "execution_count": 26
        }
      ]
    },
    {
      "cell_type": "code",
      "source": [
        "x"
      ],
      "metadata": {
        "colab": {
          "base_uri": "https://localhost:8080/"
        },
        "id": "0niBzmqIBuM5",
        "outputId": "05deec70-f7b5-4beb-bb10-b1168a1da76a"
      },
      "execution_count": 27,
      "outputs": [
        {
          "output_type": "execute_result",
          "data": {
            "text/plain": [
              "<tf.Variable 'Variable:0' shape=() dtype=float32, numpy=3.0>"
            ]
          },
          "metadata": {},
          "execution_count": 27
        }
      ]
    },
    {
      "cell_type": "code",
      "source": [
        "x = tf.Variable([10], dtype=float)\n",
        "\n",
        "with tf.GradientTape() as tape:\n",
        " y = tf.pow(3,x*0.2) + 5*tf.pow(x,2) - tf.math.log(x) + tf.math.tanh(x)\n",
        "\n",
        "dy_dx = tape.gradient(y,x)\n",
        "dy_dx"
      ],
      "metadata": {
        "colab": {
          "base_uri": "https://localhost:8080/"
        },
        "id": "0RKZgAe8B3rA",
        "outputId": "7196f879-b3c1-44f1-be96-c78c874e1495"
      },
      "execution_count": 29,
      "outputs": [
        {
          "output_type": "execute_result",
          "data": {
            "text/plain": [
              "<tf.Tensor: shape=(1,), dtype=float32, numpy=array([101.8775], dtype=float32)>"
            ]
          },
          "metadata": {},
          "execution_count": 29
        }
      ]
    },
    {
      "cell_type": "code",
      "source": [
        "x = tf.Variable((10), dtype=tf.float32)\n",
        "with tf.GradientTape() as tape:\n",
        "  y = tf.pow(3, 0.2 * x) + 5* tf.pow(x,2) - tf.math.log(x) + tf.math.tanh (x)\n",
        "dy_dx = tape.gradient(y,x)\n",
        "print(\"The slope of the function at x = 10 is \", dy_dx.numpy())"
      ],
      "metadata": {
        "colab": {
          "base_uri": "https://localhost:8080/"
        },
        "id": "FmidaDzwDmgm",
        "outputId": "45346047-51db-4175-e997-a8ff2d178156"
      },
      "execution_count": 30,
      "outputs": [
        {
          "output_type": "stream",
          "name": "stdout",
          "text": [
            "The slope of the function at x = 10 is  101.8775\n"
          ]
        }
      ]
    },
    {
      "cell_type": "code",
      "source": [
        "x = tf.Variable((10), dtype=tf.float32)\n",
        "xx = tf.Variable((4), dtype=tf.float32)\n",
        "with tf.GradientTape() as tape:\n",
        "  y = tf.pow(3, 0.2 * x) + 5* tf.pow(x,2) - tf.math.log(x) + tf.math.tanh (x)\n",
        "dy_dx = tape.gradient(y,x)\n",
        "print(\"The slope of the function at x = 10 is \", dy_dx.numpy())\n",
        "#print(\"The slope of the function at x = 4 is \", kk.numpy())"
      ],
      "metadata": {
        "colab": {
          "base_uri": "https://localhost:8080/"
        },
        "id": "Mh-x8WEfD4NB",
        "outputId": "66936e9c-03a3-4d3b-9e33-53bd48536683"
      },
      "execution_count": 48,
      "outputs": [
        {
          "output_type": "stream",
          "name": "stdout",
          "text": [
            "The slope of the function at x = 10 is  101.8775\n"
          ]
        }
      ]
    },
    {
      "cell_type": "code",
      "source": [
        "X = tf.Variable(tf.random.normal((1,)))"
      ],
      "metadata": {
        "id": "fXGm3d6rJCo5"
      },
      "execution_count": 44,
      "outputs": []
    },
    {
      "cell_type": "code",
      "source": [
        "X"
      ],
      "metadata": {
        "colab": {
          "base_uri": "https://localhost:8080/"
        },
        "id": "2rLlJR-DLFbB",
        "outputId": "9d4cfeb0-1c7f-4ded-f747-e642ba42a4d5"
      },
      "execution_count": 45,
      "outputs": [
        {
          "output_type": "execute_result",
          "data": {
            "text/plain": [
              "<tf.Variable 'Variable:0' shape=(1,) dtype=float32, numpy=array([0.33023047], dtype=float32)>"
            ]
          },
          "metadata": {},
          "execution_count": 45
        }
      ]
    },
    {
      "cell_type": "code",
      "source": [],
      "metadata": {
        "id": "vqDjQPo3LKxR"
      },
      "execution_count": null,
      "outputs": []
    }
  ]
}